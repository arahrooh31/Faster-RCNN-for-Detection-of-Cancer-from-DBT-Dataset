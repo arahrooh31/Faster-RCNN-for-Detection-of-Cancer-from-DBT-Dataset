{
  "nbformat": 4,
  "nbformat_minor": 0,
  "metadata": {
    "colab": {
      "name": "DBT_patch_selection",
      "provenance": [],
      "authorship_tag": "ABX9TyM3FmnDWMAaS1Zgn/GhZufH",
      "include_colab_link": true
    },
    "kernelspec": {
      "name": "python3",
      "display_name": "Python 3"
    },
    "language_info": {
      "name": "python"
    }
  },
  "cells": [
    {
      "cell_type": "markdown",
      "metadata": {
        "id": "view-in-github",
        "colab_type": "text"
      },
      "source": [
        "<a href=\"https://colab.research.google.com/github/arahrooh31/UCLA_BE223C/blob/Keane_temp/DBT_patch_selection.ipynb\" target=\"_parent\"><img src=\"https://colab.research.google.com/assets/colab-badge.svg\" alt=\"Open In Colab\"/></a>"
      ]
    },
    {
      "cell_type": "code",
      "metadata": {
        "colab": {
          "base_uri": "https://localhost:8080/"
        },
        "id": "PbyLJxFlEVH6",
        "outputId": "bd206141-a6f9-45f1-afa8-da558782b7c3"
      },
      "source": [
        "import os\n",
        "import numpy as np\n",
        "import matplotlib.pyplot as plt\n",
        "import matplotlib.patches as patches\n",
        "import gc  #debug memory leaks in matplotlib\n",
        "import csv #read in description files\n",
        "import random #used to select random slice for patches\n",
        "import cv2\n",
        "\n",
        "from google.colab.patches import cv2_imshow\n",
        "#\n",
        "# Read Data from google drive\n",
        "#\n",
        "from google.colab import drive #for loading gdrive data\n",
        "from google.colab import files\n",
        "\n",
        "# install dependencies not included by Colab\n",
        "# use pip3 to ensure compatibility w/ Google Deep Learning Images \n",
        "!pip3 install -q pydicom \n",
        "!pip3 install -q tqdm \n",
        "!pip3 install -q imgaug\n",
        "!pip3 install -q pickle5\n",
        "\n",
        "import pydicom #to read dicom files\n",
        "from pydicom import dcmread\n",
        "import pickle5 as pickle; #generic storage of image arra\n",
        "\n",
        "# Load data from google drive\n",
        "#\n",
        "\n",
        "drive.mount('/content/gdrive')\n",
        "\n",
        "data_dir = '/content/gdrive/My Drive/DBT_DATA/IMG_ARRAYS'\n",
        "top_dir = '/content/gdrive/My Drive/DBT_WORKSPACE/TRAINING_PATCHES' \n",
        "\n",
        "#output patch save dir\n",
        "patch_normal_dir = '/content/gdrive/My Drive/DBT_WORKSPACE/TRAINING_PATCHES/NORMAL'\n",
        "patch_actionable_dir = '/content/gdrive/My Drive/DBT_WORKSPACE/TRAINING_PATCHES/ACTIONABLE' \n",
        "\n"
      ],
      "execution_count": 74,
      "outputs": [
        {
          "output_type": "stream",
          "text": [
            "Drive already mounted at /content/gdrive; to attempt to forcibly remount, call drive.mount(\"/content/gdrive\", force_remount=True).\n"
          ],
          "name": "stdout"
        }
      ]
    },
    {
      "cell_type": "code",
      "metadata": {
        "id": "KyHvIfWJ9e9n"
      },
      "source": [
        "def choose_tissue_area(img_data, patch_x,patch_y,slice_selection = 2,debug=0):\n",
        "\n",
        "\n",
        "    if (debug == 1):  print('slice chosen is ',slice_selection)\n",
        "    slice_data = img_data[slice_selection,:,:]\n",
        "\n",
        "    # convert the grayscale image to binary image\n",
        "    #look for anything >1 and assign that a 1 value. Expectation is that \n",
        "    #any area without attenuation will have 0 value -- adjust the lower val\n",
        "    #if blurred areas need to be brought in. Last 0 is just the default\n",
        "    #threshold type\n",
        "    ret,thresh = cv2.threshold(slice_data,1,1,0)\n",
        "\n",
        "\n",
        "    # calculate moments of binary image\n",
        "    M = cv2.moments(thresh)\n",
        "    # calculate x,y coordinate of center\n",
        "    center_x = int(M[\"m10\"] / M[\"m00\"])\n",
        "    center_y = int(M[\"m01\"] / M[\"m00\"])\n",
        "    if (debug == 1):  print('center is ', center_x,center_y)\n",
        "\n",
        "\n",
        "    # create a patch centered at the centroid location\n",
        "    patch_lr = center_x-int(patch_x/2),center_x+int(patch_x/2)\n",
        "    patch_tb = center_y-int(patch_y/2),center_y+int(patch_y/2)\n",
        "    #        indices = np.where(slice_data!= [0])\n",
        "    #        coordinates = zip(indices[0], indices[1])\n",
        "\n",
        "    patch_img = img_data[slice_selection-1:slice_selection+2,patch_tb[0]:patch_tb[1],\n",
        "                         patch_lr[0]:patch_lr[1]]\n",
        "\n",
        "\n",
        "    if debug == 1:\n",
        "        plt.figure()\n",
        "        plt.imshow(thresh,cmap='bone') #img_data[slice_selection,:,:],cmap='bone')\n",
        "        plt.text(center_x,center_y,'.')\n",
        "        plt.text(patch_lr[0],patch_tb[0],'O')\n",
        "        plt.colorbar()\n",
        "\n",
        "\n",
        "        #### Draw annotation box\n",
        "        xcorner = int(patch_lr[0])\n",
        "        ycorner = int(patch_tb[0])\n",
        "        xwidth = int(244)\n",
        "        yheight = int(244)\n",
        "\n",
        "        rect = patches.Rectangle((xcorner,ycorner),xwidth,yheight,linewidth=2,edgecolor='r',facecolor='none')\n",
        "        # Get the current reference\n",
        "        ax = plt.gca()\n",
        "        # Add the patch to the Axes\n",
        "        ax.add_patch(rect)\n",
        "        plt.show()\n",
        "\n",
        "\n",
        "    return patch_img,center_x,center_y\n"
      ],
      "execution_count": 85,
      "outputs": []
    },
    {
      "cell_type": "code",
      "metadata": {
        "colab": {
          "base_uri": "https://localhost:8080/"
        },
        "id": "8PNV9YcsxiiI",
        "outputId": "07660703-d9c3-4c1c-c9b9-1d0031f815af"
      },
      "source": [
        "#\n",
        "# GENERATE SAMPLE PATCHES FOR NORMAL DATA\n",
        "#\n",
        "\n",
        "raw_files = os.listdir(data_dir)\n",
        "print('found #files: ',len(raw_files))\n",
        "\n",
        "patch_x = 244\n",
        "patch_y = 244\n",
        "for counter,filename in enumerate(raw_files):\n",
        "    #load full array\n",
        "    full_filename = os.path.join(data_dir,filename)\n",
        "    if (('Normal' in filename) or ('Actionable' in filename)): \n",
        "        #only want to run on normal/actionable labels   \n",
        "        img_data = pickle.load( open( full_filename, \"rb\" ) )\n",
        "    else:\n",
        "        print('SKIPPING non-Normal file')\n",
        "        continue\n",
        "\n",
        "    #get a random slice\n",
        "    number_slices = np.shape(img_data)[0]\n",
        "    #don't allow edge slices to be chosen\n",
        "    slice_selection = random.randint(1, number_slices-1)\n",
        "\n",
        "    patch_img,cx,cy = choose_tissue_area(img_data, patch_x,patch_y,\n",
        "                                   slice_selection = slice_selection,\n",
        "                                   debug=0)\n",
        "    \n",
        "    #save patch to a file\n",
        "    output_fn = os.path.splitext(filename)[0]+'_cx' + str(cx) + '_cy' + \\\n",
        "    str(cy) + '_' + str(patch_x) + '_' + str(patch_y) + '.pickle'\n",
        "\n",
        "    if ('Normal' in filename):\n",
        "        img_file_pickle = os.path.join(patch_normal_dir,output_fn)\n",
        "        pickle.dump(patch_img, open( img_file_pickle, \"wb\" ),protocol=5 )\n",
        "    elif ('Actionable' in filename):\n",
        "        img_file_pickle = os.path.join(patch_actionable_dir,output_fn)\n",
        "        pickle.dump(patch_img, open( img_file_pickle, \"wb\" ),protocol=5 )\n",
        "    else:\n",
        "        #how did you get here??\n",
        "        print('!!!!! Non-Normal/Actionable passed through!!!!!!')\n",
        "\n",
        "\n",
        "    if (counter%200==0):\n",
        "        print('shape of return is ', counter, np.shape(patch_img))\n",
        "        plt.figure()\n",
        "        plt.imshow(patch_img[1,:,:])\n",
        "        plt.colorbar()\n",
        "\n",
        "    del patch_img\n",
        "    del img_data\n",
        "    #else:\n",
        "    #    break\n",
        "\n"
      ],
      "execution_count": null,
      "outputs": [
        {
          "output_type": "stream",
          "text": [
            "found #files:  2568\n",
            "shape of return is  0 (3, 244, 244)\n",
            "SKIPPING non-Normal file\n",
            "SKIPPING non-Normal file\n",
            "SKIPPING non-Normal file\n",
            "SKIPPING non-Normal file\n",
            "SKIPPING non-Normal file\n",
            "SKIPPING non-Normal file\n",
            "SKIPPING non-Normal file\n",
            "SKIPPING non-Normal file\n",
            "SKIPPING non-Normal file\n",
            "SKIPPING non-Normal file\n",
            "SKIPPING non-Normal file\n",
            "SKIPPING non-Normal file\n"
          ],
          "name": "stdout"
        }
      ]
    },
    {
      "cell_type": "code",
      "metadata": {
        "colab": {
          "base_uri": "https://localhost:8080/",
          "height": 323
        },
        "id": "MNB8pVO63iqw",
        "outputId": "f2627194-6176-46ed-ebd3-6f043254a04e"
      },
      "source": [
        "#\n",
        "# Choose valid patch size for Normal images\n",
        "#\n",
        "\n",
        "raw_files = os.listdir(data_dir)\n",
        "print('found #files: ',len(raw_files))\n",
        "\n",
        "if (1):\n",
        "    #create fake patches for now\n",
        "    patch_dict = {}\n",
        "    for counter,filename in enumerate(raw_files):\n",
        "        #load full array\n",
        "        full_filename = os.path.join(data_dir,filename)\n",
        "        img_data = pickle.load( open( full_filename, \"rb\" ) )\n",
        "\n",
        "        #get a random slice\n",
        "        number_slices = np.shape(img_data)[0]\n",
        "        slice_selection = random.randint(0, number_slices-1)\n",
        "        print('slice chosen is ',slice_selection)\n",
        "        slice_data = img_data[slice_selection,:,:]\n",
        "\n",
        "        # convert the grayscale image to binary image\n",
        "        #look for anything >1 and assign that a 1 value. Expectation is that \n",
        "        #any area without attenuation will have 0 value -- adjust the lower val\n",
        "        #if blurred areas need to be brought in. Last 0 is just the default\n",
        "        #threshold type\n",
        "        ret,thresh = cv2.threshold(slice_data,1,1,0)\n",
        "\n",
        "        \n",
        "        # calculate moments of binary image\n",
        "        M = cv2.moments(thresh)\n",
        "        # calculate x,y coordinate of center\n",
        "        center_x = int(M[\"m10\"] / M[\"m00\"])\n",
        "        center_y = int(M[\"m01\"] / M[\"m00\"])\n",
        "        print('center is ', center_x,center_y)\n",
        "\n",
        "        patch_x = 244\n",
        "        patch_y = 244\n",
        "        # create a patch centered at the centroid location\n",
        "        patch_lr = center_x-int(patch_x/2),center_x+int(patch_x/2)\n",
        "        patch_tb = center_y-int(patch_y/2),center_y+int(patch_y/2)\n",
        "#        indices = np.where(slice_data!= [0])\n",
        "#        coordinates = zip(indices[0], indices[1])\n",
        "\n",
        "\n",
        "        plt.figure()\n",
        "        plt.imshow(thresh,cmap='bone') #img_data[slice_selection,:,:],cmap='bone')\n",
        "        plt.text(center_x,center_y,'.')\n",
        "        plt.text(patch_lr[0],patch_tb[0],'O')\n",
        "        plt.colorbar()\n",
        "\n",
        "\n",
        "        #### Draw annotation box\n",
        "        xcorner = int(patch_lr[0])\n",
        "        ycorner = int(patch_tb[0])\n",
        "        xwidth = int(244)\n",
        "        yheight = int(244)\n",
        "        \n",
        "        rect = patches.Rectangle((xcorner,ycorner),xwidth,yheight,linewidth=2,edgecolor='r',facecolor='none')\n",
        "        # Get the current reference\n",
        "        ax = plt.gca()\n",
        "        # Add the patch to the Axes\n",
        "        ax.add_patch(rect)\n",
        "        plt.show()\n",
        "        ###\n",
        "\n",
        "\n",
        "\n",
        "        #patch_data = img_data[0:3,:,:]\n",
        "        #patch_dict[counter]= patch_data\n",
        "        #print(full_filename,np.shape(patch_data))\n",
        "\n",
        "\n",
        "\n",
        "        if (counter >= 0):\n",
        "            break\n"
      ],
      "execution_count": 54,
      "outputs": [
        {
          "output_type": "stream",
          "text": [
            "found #files:  2568\n",
            "slice chosen is  58\n",
            "center is  1264 1243\n"
          ],
          "name": "stdout"
        },
        {
          "output_type": "display_data",
          "data": {
            "image/png": "[encoded data removed]",
            "text/plain": [
              "<Figure size 432x288 with 2 Axes>"
            ]
          },
          "metadata": {
            "tags": [],
            "needs_background": "light"
          }
        }
      ]
    },
    {
      "cell_type": "code",
      "metadata": {
        "colab": {
          "base_uri": "https://localhost:8080/",
          "height": 169
        },
        "id": "RB6cGVMI91C-",
        "outputId": "fa59c203-5b26-4a6b-dda5-ecd998bd1131"
      },
      "source": [
        "iter(coordinates,3)"
      ],
      "execution_count": 26,
      "outputs": [
        {
          "output_type": "error",
          "ename": "TypeError",
          "evalue": "ignored",
          "traceback": [
            "\u001b[0;31m---------------------------------------------------------------------------\u001b[0m",
            "\u001b[0;31mTypeError\u001b[0m                                 Traceback (most recent call last)",
            "\u001b[0;32m<ipython-input-26-520a42d50e20>\u001b[0m in \u001b[0;36m<module>\u001b[0;34m()\u001b[0m\n\u001b[0;32m----> 1\u001b[0;31m \u001b[0miter\u001b[0m\u001b[0;34m(\u001b[0m\u001b[0mcoordinates\u001b[0m\u001b[0;34m,\u001b[0m\u001b[0;36m3\u001b[0m\u001b[0;34m)\u001b[0m\u001b[0;34m\u001b[0m\u001b[0;34m\u001b[0m\u001b[0m\n\u001b[0m",
            "\u001b[0;31mTypeError\u001b[0m: iter(v, w): v must be callable"
          ]
        }
      ]
    }
  ]
}