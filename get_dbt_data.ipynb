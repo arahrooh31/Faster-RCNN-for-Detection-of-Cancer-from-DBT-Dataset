{
  "nbformat": 4,
  "nbformat_minor": 0,
  "metadata": {
    "colab": {
      "name": "get_dbt_data.ipyb",
      "provenance": [],
      "collapsed_sections": [],
      "authorship_tag": "ABX9TyP0B3Q0Ws09g5cn5hPySOHE",
      "include_colab_link": true
    },
    "kernelspec": {
      "display_name": "Python 3",
      "name": "python3"
    },
    "language_info": {
      "name": "python"
    }
  },
  "cells": [
    {
      "cell_type": "markdown",
      "metadata": {
        "id": "view-in-github",
        "colab_type": "text"
      },
      "source": [
        "<a href=\"https://colab.research.google.com/github/arahrooh31/UCLA_BE223C/blob/Keane_temp/get_dbt_data.ipynb\" target=\"_parent\"><img src=\"https://colab.research.google.com/assets/colab-badge.svg\" alt=\"Open In Colab\"/></a>"
      ]
    },
    {
      "cell_type": "code",
      "metadata": {
        "colab": {
          "base_uri": "https://localhost:8080/"
        },
        "id": "YeZ7sCoVv1is",
        "outputId": "be630cf8-b9b9-4636-ba8d-a4c2a8ab0247"
      },
      "source": [
        "#%load_ext autoreload\n",
        "#%autoreload 2\n",
        "\n",
        "import os\n",
        "import numpy as np\n",
        "import matplotlib.pyplot as plt\n",
        "import matplotlib.patches as patches\n",
        "import gc  #debug memory leaks in matplotlib\n",
        "import csv #read in description files\n",
        "from google.colab.patches import cv2_imshow\n",
        "#\n",
        "# Read Data from google drive\n",
        "#\n",
        "from google.colab import drive #for loading gdrive data\n",
        "from google.colab import files\n",
        "\n",
        "# install dependencies not included by Colab\n",
        "# use pip3 to ensure compatibility w/ Google Deep Learning Images \n",
        "!pip3 install -q pydicom \n",
        "!pip3 install -q tqdm \n",
        "!pip3 install -q imgaug \n",
        "\n",
        "import pydicom #to read dicom files\n",
        "from pydicom import dcmread\n",
        "\n",
        "#imports needed for dbtex function\n",
        "print('---dbtex installs---')\n",
        "!pip3 install -q pylibjpeg  #for dbtex\n",
        "!pip3 install -q python-gdcm\n",
        "!pip3 install -q pylibjpeg-libjpeg \n",
        "!pip3 install -q pylibjpeg-openjpeg\n",
        "!pip3 install -q Pillow\n",
        "\n",
        "\n",
        "import PIL\n",
        "import pylibjpeg\n",
        "\n",
        "#\n",
        "# Load data from google drive\n",
        "#\n",
        "\n",
        "drive.mount('/content/gdrive')\n",
        "\n",
        "\n"
      ],
      "execution_count": null,
      "outputs": [
        {
          "output_type": "stream",
          "text": [
            "\u001b[K     |████████████████████████████████| 1.9MB 6.9MB/s \n",
            "\u001b[?25h---dbtex installs---\n",
            "\u001b[K     |████████████████████████████████| 3.6MB 8.2MB/s \n",
            "\u001b[K     |████████████████████████████████| 9.4MB 6.9MB/s \n",
            "\u001b[K     |████████████████████████████████| 4.2MB 6.8MB/s \n",
            "\u001b[?25h"
          ],
          "name": "stdout"
        }
      ]
    },
    {
      "cell_type": "code",
      "metadata": {
        "id": "MMrXTxukXnrH"
      },
      "source": [
        "### set up drives for including .py files\n",
        "GOOGLE_DRIVE_PATH_AFTER_MYDRIVE = 'BE223C_SPRING_2021/PY_FILES'\n",
        "GOOGLE_DRIVE_PATH = os.path.join('/content/gdrive', 'My Drive', GOOGLE_DRIVE_PATH_AFTER_MYDRIVE)\n",
        "print(os.listdir(GOOGLE_DRIVE_PATH))\n",
        "import sys\n",
        "sys.path.append(GOOGLE_DRIVE_PATH)\n",
        "\n",
        "import time\n",
        "os.environ[\"TZ\"] = \"US/Eastern\"\n",
        "time.tzset()\n",
        "\n",
        "#import dbtex_dbt_data\n"
      ],
      "execution_count": null,
      "outputs": []
    },
    {
      "cell_type": "code",
      "metadata": {
        "id": "AQgRihYdo5O2"
      },
      "source": [
        "#code borrowed from\n",
        "#https://gist.github.com/cmarasinou/7c990a4835e80874b4de5f2433612d65\n",
        "###############testing out embedded function, as .py import failing\n",
        "\n",
        "from typing import AnyStr, BinaryIO, Optional, Union\n",
        "\n",
        "import numpy as np\n",
        "import pydicom as dicom\n",
        "from skimage.exposure import rescale_intensity\n",
        "\n",
        "\n",
        "def dcmread_image(\n",
        "    fp: Union[str, \"os.PathLike[AnyStr]\", BinaryIO],\n",
        "    view: str,\n",
        "    index: Optional[np.uint] = None,\n",
        ") -> np.ndarray:\n",
        "    \"\"\"Read pixel array from DBT DICOM file\"\"\"\n",
        "    ds = dicom.dcmread(fp)\n",
        "    ds.decompress(handler_name='pillow') #pylibjpeg')\n",
        "    pixel_array = ds.pixel_array\n",
        "    view_laterality = view[0].upper()\n",
        "    image_laterality = _get_image_laterality(pixel_array[index or 0])\n",
        "    if index is not None:\n",
        "        pixel_array = pixel_array[index]\n",
        "    if not image_laterality == view_laterality:\n",
        "        pixel_array = np.flip(pixel_array, axis=(-1, -2))\n",
        "        print(\"Laterality fixed!\")\n",
        "    window_center = _get_window_center(ds)\n",
        "    window_width = _get_window_width(ds)\n",
        "    low = (2 * window_center - window_width) / 2\n",
        "    high = (2 * window_center + window_width) / 2\n",
        "    pixel_array = rescale_intensity(\n",
        "        pixel_array, in_range=(low, high), out_range=\"dtype\"\n",
        "    )\n",
        "    return pixel_array\n",
        "\n",
        "\n",
        "def _get_dicom_laterality(ds: dicom.dataset.FileDataset) -> str:\n",
        "    \"\"\"Unreliable - DICOM laterality is incorrect for some cases\"\"\"\n",
        "    return ds[0x5200, 0x9229][0][0x0020, 0x9071][0][0x0020, 0x9072].value\n",
        "\n",
        "\n",
        "def _get_image_laterality(pixel_array: np.ndarray) -> str:\n",
        "    left_edge = np.sum(pixel_array[:, 0])  # sum of left edge pixels\n",
        "    right_edge = np.sum(pixel_array[:, -1])  # sum of right edge pixels\n",
        "    return \"R\" if left_edge < right_edge else \"L\"\n",
        "\n",
        "\n",
        "def _get_window_center(ds: dicom.dataset.FileDataset) -> np.float32:\n",
        "    return np.float32(ds[0x5200, 0x9229][0][0x0028, 0x9132][0][0x0028, 0x1050].value)\n",
        "\n",
        "\n",
        "def _get_window_width(ds: dicom.dataset.FileDataset) -> np.float32:\n",
        "    return np.float32(ds[0x5200, 0x9229][0][0x0028, 0x9132][0][0x0028, 0x1051].value)"
      ],
      "execution_count": null,
      "outputs": []
    },
    {
      "cell_type": "code",
      "metadata": {
        "id": "1xpyC2jgx3vs"
      },
      "source": [
        "'''\n",
        "GET DIR LISTING----------------------------------------------------------------\n",
        "'''\n",
        "def get_dirs(top_dir): \n",
        "    import os\n",
        "\n",
        "    dir_list = os.scandir(top_dir)\n",
        "    directories=[]\n",
        "    patient_data = {}\n",
        "    for ii in dir_list:\n",
        "        print('top dir is ',ii)\n",
        "        if (ii.is_dir()):\n",
        "            #patient ID directory\n",
        "            patient_id = ii.name\n",
        "            patient_data[patient_id]={}\n",
        "            directories.append(ii.name)\n",
        "            #get file listings for each directory found\n",
        "            full_name = os.path.join(top_dir,ii.name)\n",
        "            print(ii,full_name)\n",
        "\n",
        "            files = os.scandir(full_name)\n",
        "            for patient_uid in files:\n",
        "                print('------ ',patient_uid.name)\n",
        "\n",
        "            if (patient_uid.is_dir()):\n",
        "                #this will be the longer directory name\n",
        "                #with study id\n",
        "                #This will need to be tokenized to get \n",
        "                #the two fields out for info\n",
        "                #--for now, keep the longer directory name\n",
        "                patient_data[patient_id][patient_uid.name]={}\n",
        "\n",
        "                exam_listings = os.scandir(os.path.join(full_name, \n",
        "                                                  patient_uid.name))\n",
        "                for exam_number in exam_listings:\n",
        "                    patient_data[patient_id][patient_uid.name][exam_number.name] =[]\n",
        "                    #fill this in with exam dcm contents\n",
        "                    dcm_list = os.listdir(os.path.join(full_name, \n",
        "                                                  patient_uid.name,\n",
        "                                                  exam_number.name))\n",
        "                    for dcm_file in dcm_list:\n",
        "                        patient_data[patient_id][patient_uid.name][exam_number.name].append(dcm_file)\n",
        "\n",
        "        else:\n",
        "            print('*** found single file ',ii.name)\n",
        "\n",
        "    \n",
        "    return patient_data"
      ],
      "execution_count": null,
      "outputs": []
    },
    {
      "cell_type": "code",
      "metadata": {
        "id": "PdkdQDR8vy3j"
      },
      "source": [
        "def get_csv_data(filename):\n",
        "    fields = []\n",
        "    rows = []\n",
        "\n",
        "    # reading csv file\n",
        "    with open(filename, 'r') as csvfile:\n",
        "        # creating a csv reader object\n",
        "        csvreader = csv.reader(csvfile)\n",
        "        \n",
        "        # extracting field names through first row\n",
        "        fields = next(csvreader)\n",
        "\n",
        "        # extracting each data row one by one\n",
        "        for row in csvreader:\n",
        "            rows.append(row)\n",
        "\n",
        "\n",
        "        # lines present\n",
        "        print(\"found rows: %d\"%(csvreader.line_num))\n",
        "    return fields, rows"
      ],
      "execution_count": null,
      "outputs": []
    },
    {
      "cell_type": "code",
      "metadata": {
        "id": "SDKB2fUS76j6"
      },
      "source": [
        ""
      ],
      "execution_count": null,
      "outputs": []
    },
    {
      "cell_type": "code",
      "metadata": {
        "id": "kk3yquF4yna6"
      },
      "source": [
        "### Main level\n",
        "top_dir = '/content/gdrive/My Drive/DBT_DATA/TRAINING_DATA/manifest-1605042674814/Breast-Cancer-Screening-DBT'\n",
        "png_dir = '/content/gdrive/My Drive/BE223C_SPRING_2021/PNG_IMAGES'\n",
        "png_annotation_dir = '/content/gdrive/My Drive/BE223C_SPRING_2021/PNG_ANNOTATION_IMAGES'\n",
        "\n",
        "upper_dir =top_dir\n",
        "\n",
        "patient_data = get_dirs(upper_dir)\n"
      ],
      "execution_count": null,
      "outputs": []
    },
    {
      "cell_type": "code",
      "metadata": {
        "id": "OAYLM_PCflpL"
      },
      "source": [
        "#READ CSV FILES\n",
        "csv_dir = '/content/gdrive/My Drive/DBT_DATA/TRAINING_DATA/'\n",
        "csv_list = os.listdir(csv_dir)\n",
        "\n",
        "for csv_file in csv_list:\n",
        "    filename = os.path.join(csv_dir,csv_file)\n",
        "    if ('path' in csv_file):\n",
        "        path_fields, path_rows = get_csv_data(filename)\n",
        "    elif('labels' in csv_file):\n",
        "        label_fields, label_rows = get_csv_data(filename)        \n",
        "    elif('boxes' in csv_file):\n",
        "        boxes_fields, boxes_rows = get_csv_data(filename)\n",
        "    else:\n",
        "        print('Non-archive file found ',filename)\n",
        "\n",
        "print('box shape is ',np.shape(boxes_rows))\n",
        "\n",
        "num_slices = np.double(np.array(boxes_rows)[:,[11]])\n",
        "print('min slices, max slices = ',np.amin(num_slices), np.amax(num_slices))\n"
      ],
      "execution_count": null,
      "outputs": []
    },
    {
      "cell_type": "code",
      "metadata": {
        "id": "I3xMG4APL1Qm"
      },
      "source": [
        "print(boxes_fields)\n",
        "#Assign slices\n",
        "for field_number,ii in enumerate(boxes_fields):\n",
        "    if ('Slice' == ii):\n",
        "        slice_column = field_number\n",
        "    elif('View' == ii):\n",
        "        view_column = field_number\n",
        "for field_number, ii in enumerate(path_fields):\n",
        "    if('descriptive_path' == ii):\n",
        "        view_id_column = field_number\n",
        "    elif('View' == ii):\n",
        "        path_view_column = field_number\n",
        "    elif('StudyUID' == ii):\n",
        "        path_studyuid_column = field_number\n",
        "\n",
        "print('slice/view/viewed column is ', slice_column, view_column, view_id_column)\n",
        "np.double(np.array(boxes_rows)[:,4])\n",
        "\n",
        "#Assign view \n",
        "path_rows[0]\n"
      ],
      "execution_count": null,
      "outputs": []
    },
    {
      "cell_type": "code",
      "metadata": {
        "id": "8jnZLWqDlmom"
      },
      "source": [
        "#############MAPPING VIEW NUMBER TO VIEW TYPE\n",
        "#\n",
        "#Create smaller matrix used just for matching view number and name\n",
        "#\n",
        "view_map = [sublist[:4] for sublist in path_rows]\n",
        "\n",
        "def match_view(view_number, view_map):\n",
        "    #take the input view_number and match it to the text view name\n",
        "    #search the smaller subset of path_rows to find the input number. The number\n",
        "    #is locked into a full path, so we just do a text match to find the right\n",
        "    #row\n",
        "    for view_directory in view_map:\n",
        "        if (str(view_number) in view_directory[3]):\n",
        "            view_out = view_directory[2]\n",
        "\n",
        "    return view_out\n",
        "\n",
        "\n"
      ],
      "execution_count": null,
      "outputs": []
    },
    {
      "cell_type": "code",
      "metadata": {
        "id": "RdG9ttA68n8Z"
      },
      "source": [
        "def get_bounding_box(patient_id, patient_uid,view_type, boxes_rows):\n",
        "    #get the corners of the annotated box\n",
        "    #slice, x,y,width, height\n",
        "    box_info = []\n",
        "    for ii in boxes_rows:\n",
        "        if (patient_id in ii[0]):\n",
        "            if (view_type in ii[2]):# and (patient_uid in ii[1]):\n",
        "                print('found box data')\n",
        "                box_info.append(ii[4:9])\n",
        "                break\n",
        "    if(len(box_info) < 1):\n",
        "        ## CHECK TO SEE IF THIS IS CANCER OR HAS A BOX. CLEAR CASES WON'T HAVE BOXES\n",
        "        print('!!!!!! WARNING. BOUNDING BOXES EMPTY')\n",
        "        print(patient_id, patient_uid, view_type)\n",
        "    return box_info"
      ],
      "execution_count": null,
      "outputs": []
    },
    {
      "cell_type": "code",
      "metadata": {
        "id": "v6u3QNApitVH"
      },
      "source": [
        ""
      ],
      "execution_count": null,
      "outputs": []
    },
    {
      "cell_type": "code",
      "metadata": {
        "id": "28uUPVOBit-h"
      },
      "source": [
        "boxes_rows[0]"
      ],
      "execution_count": null,
      "outputs": []
    },
    {
      "cell_type": "code",
      "metadata": {
        "id": "zCjnxWXKdlTz"
      },
      "source": [
        "for patient_id in patient_data.keys():\n",
        "    for patient_uid in patient_data[patient_id].keys():\n",
        "        for view_number in patient_data[patient_id][patient_uid].keys():\n",
        "            view_out = match_view(view_number, view_map)\n",
        "            #box_info = get_bounding_box(patient_id, patient_uid, view_out,boxes_rows)\n",
        "            for ii in boxes_rows:\n",
        "                if (patient_id in ii[0]) and (view_out in ii[2]):# and (patient_uid in ii[1]):\n",
        "                    \n",
        "                    box_info = [ii[4:9]]\n",
        "                    print(len(box_info),patient_id,view_out,box_info,ii)\n",
        "                    break"
      ],
      "execution_count": null,
      "outputs": []
    },
    {
      "cell_type": "code",
      "metadata": {
        "id": "GBMAFAINZNoz"
      },
      "source": [
        "file = '/content/gdrive/My Drive/DBT_DATA/TEST_DATA/manifest-1605042674814/Breast-Cancer-Screening-DBT/DBT-P00118/01-01-2000-DBT-S05386-MAMMO screening digital bilateral-70928/7697.000000-17471/1-1.dcm'\n",
        "\n",
        "\n",
        "\n",
        "img_data = dcmread_image(file,'0')\n",
        "\n",
        "#dcmread_image(\n",
        "#    fp: Union[str, \"os.PathLike[AnyStr]\", BinaryIO],\n",
        "#    view: str,\n",
        "#    index: Optional[np.uint] = None,\n",
        "#)"
      ],
      "execution_count": null,
      "outputs": []
    },
    {
      "cell_type": "code",
      "metadata": {
        "id": "MfuhtGfQkdve"
      },
      "source": [
        "print('size of return is ',img_data.shape)\n",
        "plt.figure()\n",
        "plt.imshow(img_data[0,:,:])\n",
        "plt.colorbar()"
      ],
      "execution_count": null,
      "outputs": []
    },
    {
      "cell_type": "code",
      "metadata": {
        "id": "DWG8MQND8bwW"
      },
      "source": [
        "len(box_info)"
      ],
      "execution_count": null,
      "outputs": []
    },
    {
      "cell_type": "code",
      "metadata": {
        "id": "Ue2GFkNl54vy"
      },
      "source": [
        "#\n",
        "# Show the final DCM files found\n",
        "#\n",
        "make_png = 1\n",
        "f1 = plt.figure(dpi=1200) #reuse the figure to avoid memory leak\n",
        "for patient_id in patient_data.keys():\n",
        "    #do a pre-check to see if this has a bounding box\n",
        "    for patient_uid in patient_data[patient_id].keys():\n",
        "        for view_number in patient_data[patient_id][patient_uid].keys():\n",
        "            counter = 0\n",
        "            for dcm_file in patient_data[patient_id][patient_uid][view_number]:\n",
        "                #convert the views to the type used in the box csv file\n",
        "                view_type = match_view(view_number, view_map)\n",
        "\n",
        "                box_info=get_bounding_box(patient_id, patient_uid,view_type, boxes_rows)\n",
        "                dcm_full_file = os.path.join(upper_dir,patient_id, patient_uid, view_number,dcm_file)\n",
        "                print(dcm_full_file)\n",
        "                #img_data = dcmread_image(dcm_full_file,'0')\n",
        "                \n",
        "                #we will only print out the slices that have bounding boxes\n",
        "                number_matching_slices = np.shape(box_info)[0] #------NEEDS CHECKS\n",
        "                if (number_matching_slices <1):\n",
        "                    print('!!!!!! slice counting issue or no bounding box. skipping')\n",
        "                    print('---->',number_matching_slices, patient_id, view_type,box_info)\n",
        "                else:\n",
        "                    dcm_full_file = os.path.join(upper_dir,patient_id, patient_uid, view_number,dcm_file)\n",
        "                    print(dcm_full_file)\n",
        "                    img_data = dcmread_image(dcm_full_file,view_type) #'0')\n",
        "\n",
        "\n",
        "                    for slices in range(0,number_matching_slices):\n",
        "                        slice_number = int(box_info[slices][0])\n",
        "                        print('Opening slice sequence: ',slices, slice_number)\n",
        "\n",
        "                        if (make_png == 1):\n",
        "                            \n",
        "                            plt.imshow(img_data[slice_number,:,:], cmap=plt.cm.bone)\n",
        "                            #plt.imshow(ds.pixel_array[0,:,:], cmap=plt.cm.bone)\n",
        "                            title_text = str(patient_id) + '_' + str(view_type)\n",
        "                            plt.title(title_text)\n",
        "                            plt.colorbar()\n",
        "                            #plt.show()\n",
        "                            \n",
        "                            #### Draw annotation box\n",
        "                            xcorner = int(box_info[slices][1])\n",
        "                            ycorner = int(box_info[slices][2])\n",
        "                            xwidth = int(box_info[slices][3])\n",
        "                            yheight = int(box_info[slices][4])\n",
        "                            rect = patches.Rectangle((xcorner,ycorner),xwidth,yheight,linewidth=2,edgecolor='r',facecolor='none')\n",
        "                            # Get the current reference\n",
        "                            ax = plt.gca()\n",
        "                            # Add the patch to the Axes\n",
        "                            ax.add_patch(rect)\n",
        "                            plt.show()\n",
        "                            ###\n",
        "\n",
        "                            fname = str(patient_id) + '_' + str(view_number) + '_sequence' + \\\n",
        "                                str(slices) + 'slice_' + str(slice_number) + '.png'\n",
        "                            save_filename = os.path.join(png_annotation_dir,fname)\n",
        "                            plt.savefig(save_filename,dpi=1200)\n",
        "                            time.sleep(0.5)\n",
        "                            plt.cla()\n",
        "                            plt.clf()\n",
        "                            #del f1\n",
        "                            #plt.close(\"all\")\n",
        "                            #ds = None #clear pydicom, memory leak if not\n",
        "                    del img_data    #  img_data = None\n",
        "                    gc.collect() #collect garbage\n",
        "                counter = counter + 1\n",
        "\n",
        "\n",
        "\n",
        "#"
      ],
      "execution_count": null,
      "outputs": []
    },
    {
      "cell_type": "code",
      "metadata": {
        "id": "O1IJCSxoGSMY"
      },
      "source": [
        "get_bounding_box(patient_id, patient_uid,view_type, boxes_rows)"
      ],
      "execution_count": null,
      "outputs": []
    },
    {
      "cell_type": "code",
      "metadata": {
        "id": "tH39l7MEFn-s"
      },
      "source": [
        "#find set that is causing memory issue\n",
        "debug_file = '/content/gdrive/My Drive/DBT_DATA/TRAINING_DATA/manifest-1605042674814/Breast-Cancer-Screening-DBT/DBT-P00122/01-01-2000-DBT-S02054-MAMMO diagnostic digital bilateral-19089/3941.000000-93960/1-1.dcm'\n",
        "\n",
        "%time img_data = dcmread_image(debug_file,'0')\n",
        "plt.figure()\n",
        "plt.imshow(img_data[0,:,:])\n",
        "plt.colorbar()\n"
      ],
      "execution_count": null,
      "outputs": []
    },
    {
      "cell_type": "code",
      "metadata": {
        "id": "IXXsvmqBKO7p"
      },
      "source": [
        "print(img_data.size)\n",
        "img_data.shape\n",
        "81*2457*1996"
      ],
      "execution_count": null,
      "outputs": []
    },
    {
      "cell_type": "code",
      "metadata": {
        "id": "vPV14TbuBHkw"
      },
      "source": [
        " '''\n",
        " ###\n",
        " ### Build links to dcm files\n",
        " ###\n",
        " print('upper dir = ',upper_dir)\n",
        " counter = 0\n",
        " patient_folder = {} #store dcm files\n",
        " for root, directories, filenames in os.walk(upper_dir): \n",
        "    #print('base is ', os.path.basename(directories))\n",
        "    for directory in directories:\n",
        "        #create dictionary entry for this directory. The files will be stored\n",
        "        #within this\n",
        "        patient_path = os.path.join(root, directory) #link to direct pt folder\n",
        "        print('root, dir = ',root,patient_path)\n",
        "        #for every directory found in the patient directory, get a listing of\n",
        "        #files in each \n",
        "        patient_files = os.listdir(patient_path)\n",
        "        for file in patient_files:\n",
        "            if ('.dcm' in file):\n",
        "                if (directory not in patient_folder.keys()):\n",
        "                    patient_folder[directory] = []\n",
        "                patient_folder[directory].append(patient_files)\n",
        "    #for filename in filenames:  \n",
        "    #    print('f= ',os.path.join(root,filename))\n",
        "    #    counter = counter + 1\n",
        "    #    if (counter > 10):\n",
        "    #        break\n",
        "    #if (counter > 10):\n",
        "    #    break"
      ],
      "execution_count": null,
      "outputs": []
    },
    {
      "cell_type": "code",
      "metadata": {
        "id": "PMPLJExRoa_3"
      },
      "source": [
        "for ii in patient_folder.keys():\n",
        "    print(ii)"
      ],
      "execution_count": null,
      "outputs": []
    },
    {
      "cell_type": "code",
      "metadata": {
        "id": "dbAdDsr3QRoN"
      },
      "source": [
        "### Open dcm file\n",
        "###\n",
        "'''\n",
        "from pydicom import dcmread\n",
        "file = '/content/gdrive/My Drive/DBT_DATA/TEST_DATA/manifest-1605042674814/Breast-Cancer-Screening-DBT/DBT-P00118/01-01-2000-DBT-S05386-MAMMO screening digital bilateral-70928/7697.000000-17471/1-1.dcm'\n",
        "\n",
        "\n",
        "ds = dcmread(file)\n",
        "print(ds.PatientName)\n",
        "ds.file_meta.TransferSyntaxUID\n",
        "plt.imshow(ds.pixel_array[0,:,:], cmap=plt.cm.bone) \n"
      ],
      "execution_count": null,
      "outputs": []
    },
    {
      "cell_type": "code",
      "metadata": {
        "id": "uEvknyd0RQau"
      },
      "source": [
        "'''\n",
        "np.shape(ds.pixel_array)\n",
        "ds_slice = ds.pixel_array[0,:,:]\n",
        "plt.imshow(ds_slice, cmap=plt.cm.jet)\n",
        "plt.colorbar()"
      ],
      "execution_count": null,
      "outputs": []
    },
    {
      "cell_type": "code",
      "metadata": {
        "id": "N-m9Lb6H8m8O"
      },
      "source": [
        "while True:pass"
      ],
      "execution_count": null,
      "outputs": []
    }
  ]
}