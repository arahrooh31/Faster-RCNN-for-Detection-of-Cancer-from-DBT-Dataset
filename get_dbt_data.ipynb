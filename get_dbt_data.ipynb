{
  "nbformat": 4,
  "nbformat_minor": 0,
  "metadata": {
    "colab": {
      "name": "get_dbt_data.ipyb",
      "provenance": [],
      "collapsed_sections": [],
      "authorship_tag": "ABX9TyOG7U83p+fSlc4a5t5l7o0o",
      "include_colab_link": true
    },
    "kernelspec": {
      "name": "python3",
      "display_name": "Python 3"
    },
    "language_info": {
      "name": "python"
    }
  },
  "cells": [
    {
      "cell_type": "markdown",
      "metadata": {
        "id": "view-in-github",
        "colab_type": "text"
      },
      "source": [
        "<a href=\"https://colab.research.google.com/github/arahrooh31/UCLA_BE223C/blob/Keane_temp/get_dbt_data.ipynb\" target=\"_parent\"><img src=\"https://colab.research.google.com/assets/colab-badge.svg\" alt=\"Open In Colab\"/></a>"
      ]
    },
    {
      "cell_type": "code",
      "metadata": {
        "colab": {
          "base_uri": "https://localhost:8080/"
        },
        "id": "YeZ7sCoVv1is",
        "outputId": "e96b44ee-9bea-40d9-c7d8-46b1f4570426"
      },
      "source": [
        "import os\n",
        "import numpy as np\n",
        "import matplotlib.pyplot as plt\n",
        "\n",
        "#\n",
        "# Read Data from google drive\n",
        "#\n",
        "from google.colab import drive #for loading gdrive data\n",
        "from google.colab import files\n",
        "\n",
        "# install dependencies not included by Colab\n",
        "# use pip3 to ensure compatibility w/ Google Deep Learning Images \n",
        "!pip3 install -q pydicom \n",
        "!pip3 install -q tqdm \n",
        "!pip3 install -q imgaug \n",
        "!pip3 install -q SimpleITK\n",
        "!pip3 install -q medpy\n",
        "\n",
        "import SimpleITK as sitk  #for reading mha files\n",
        "from medpy.io import load #mha files\n",
        "import pydicom #to read dicom files\n",
        "from pydicom import dcmread\n",
        "\n",
        "\n",
        "\n",
        "#\n",
        "# Load data from google drive\n",
        "#\n",
        "\n",
        "drive.mount('/content/gdrive')\n",
        "\n",
        "\n"
      ],
      "execution_count": 74,
      "outputs": [
        {
          "output_type": "stream",
          "text": [
            "Drive already mounted at /content/gdrive; to attempt to forcibly remount, call drive.mount(\"/content/gdrive\", force_remount=True).\n"
          ],
          "name": "stdout"
        }
      ]
    },
    {
      "cell_type": "code",
      "metadata": {
        "id": "1xpyC2jgx3vs"
      },
      "source": [
        "'''\n",
        "GET DIR LISTING----------------------------------------------------------------\n",
        "'''\n",
        "def get_dirs(top_dir): \n",
        "    import os\n",
        "\n",
        "    dir_list = os.scandir(top_dir)\n",
        "    directories=[]\n",
        "    patient_data = {}\n",
        "    for ii in dir_list:\n",
        "        print('top dir is ',ii)\n",
        "        if (ii.is_dir()):\n",
        "            #patient ID directory\n",
        "            patient_id = ii.name\n",
        "            patient_data[patient_id]={}\n",
        "            directories.append(ii.name)\n",
        "            #get file listings for each directory found\n",
        "            full_name = os.path.join(top_dir,ii.name)\n",
        "            print(ii,full_name)\n",
        "\n",
        "            files = os.scandir(full_name)\n",
        "            for patient_uid in files:\n",
        "                print('------ ',patient_uid.name)\n",
        "\n",
        "            if (patient_uid.is_dir()):\n",
        "                #this will be the longer directory name\n",
        "                #with study id\n",
        "                #This will need to be tokenized to get \n",
        "                #the two fields out for info\n",
        "                #--for now, keep the longer directory name\n",
        "                patient_data[patient_id][patient_uid.name]={}\n",
        "\n",
        "                exam_listings = os.scandir(os.path.join(full_name, \n",
        "                                                  patient_uid.name))\n",
        "                for exam_number in exam_listings:\n",
        "                    patient_data[patient_id][patient_uid.name][exam_number.name] =[]\n",
        "                    #fill this in with exam dcm contents\n",
        "                    dcm_list = os.listdir(os.path.join(full_name, \n",
        "                                                  patient_uid.name,\n",
        "                                                  exam_number.name))\n",
        "                    for dcm_file in dcm_list:\n",
        "                        patient_data[patient_id][patient_uid.name][exam_number.name].append(dcm_file)\n",
        "\n",
        "        else:\n",
        "            print('*** found single file ',ii.name)\n",
        "\n",
        "    \n",
        "    return patient_data"
      ],
      "execution_count": 67,
      "outputs": []
    },
    {
      "cell_type": "code",
      "metadata": {
        "id": "kk3yquF4yna6"
      },
      "source": [
        "### Main level\n",
        "top_dir = '/content/gdrive/My Drive/DBT_DATA/TRAINING_DATA/manifest-1605042674814/Breast-Cancer-Screening-DBT'\n",
        "\n",
        "\n",
        "upper_dir =top_dir\n",
        "\n",
        "patient_data = get_dirs(upper_dir)\n"
      ],
      "execution_count": null,
      "outputs": []
    },
    {
      "cell_type": "code",
      "metadata": {
        "id": "Ue2GFkNl54vy",
        "colab": {
          "base_uri": "https://localhost:8080/"
        },
        "outputId": "20005f52-904f-482f-dc87-486f2af201f4"
      },
      "source": [
        "#\n",
        "# Show the final DCM files found\n",
        "#\n",
        "for patient_id in patient_data.keys():\n",
        "    for patient_uid in patient_data[patient_id].keys():\n",
        "        for exam_number in patient_data[patient_id][patient_uid].keys():\n",
        "            for dcm_file in patient_data[patient_id][patient_uid][exam_number]:\n",
        "                dcm_full_file = os.path.join(upper_dir,patient_id, patient_uid, exam_number,dcm_file)\n",
        "                #print(dcm_full_file)\n",
        "                ds = dcmread(dcm_full_file)\n",
        "                print(ds.PatientName)\n",
        "                ds.file_meta.TransferSyntaxUID\n",
        "                #open a new figure to hold the slice image\n",
        "                plt.figure()\n",
        "                plt.imshow(ds.pixel_array[0,:,:], cmap=plt.cm.bone)\n",
        "                plt.colorbar()\n",
        "                title_text = str(patient_id) + '_' + str(exam_number)\n",
        "                plt.title(patient_id)\n",
        "\n",
        "\n",
        "\n"
      ],
      "execution_count": null,
      "outputs": [
        {
          "output_type": "stream",
          "text": [
            "DBT-P00013\n"
          ],
          "name": "stdout"
        },
        {
          "output_type": "stream",
          "text": [
            "/usr/local/lib/python3.7/dist-packages/pydicom/pixel_data_handlers/pillow_handler.py:177: UserWarning: The (0028,0101) 'Bits Stored' value (10-bit) doesn't match the JPEG 2000 data (16-bit). It's recommended that you change the 'Bits Stored' value\n",
            "  f\"The (0028,0101) 'Bits Stored' value ({ds.BitsStored}-bit) \"\n"
          ],
          "name": "stderr"
        },
        {
          "output_type": "stream",
          "text": [
            "DBT-P00064\n",
            "DBT-P00064\n",
            "DBT-P00064\n",
            "DBT-P00064\n",
            "DBT-P00052\n",
            "DBT-P00052\n",
            "DBT-P00052\n",
            "DBT-P00052\n",
            "DBT-P00023\n",
            "DBT-P00023\n",
            "DBT-P00023\n"
          ],
          "name": "stdout"
        }
      ]
    },
    {
      "cell_type": "code",
      "metadata": {
        "id": "vPV14TbuBHkw"
      },
      "source": [
        " ###\n",
        " ### Build links to dcm files\n",
        " ###\n",
        " print('upper dir = ',upper_dir)\n",
        " counter = 0\n",
        " patient_folder = {} #store dcm files\n",
        " for root, directories, filenames in os.walk(upper_dir): \n",
        "    #print('base is ', os.path.basename(directories))\n",
        "    for directory in directories:\n",
        "        #create dictionary entry for this directory. The files will be stored\n",
        "        #within this\n",
        "        patient_path = os.path.join(root, directory) #link to direct pt folder\n",
        "        print('root, dir = ',root,patient_path)\n",
        "        #for every directory found in the patient directory, get a listing of\n",
        "        #files in each \n",
        "        patient_files = os.listdir(patient_path)\n",
        "        for file in patient_files:\n",
        "            if ('.dcm' in file):\n",
        "                if (directory not in patient_folder.keys()):\n",
        "                    patient_folder[directory] = []\n",
        "                patient_folder[directory].append(patient_files)\n",
        "    #for filename in filenames:  \n",
        "    #    print('f= ',os.path.join(root,filename))\n",
        "    #    counter = counter + 1\n",
        "    #    if (counter > 10):\n",
        "    #        break\n",
        "    #if (counter > 10):\n",
        "    #    break"
      ],
      "execution_count": null,
      "outputs": []
    },
    {
      "cell_type": "code",
      "metadata": {
        "id": "PMPLJExRoa_3"
      },
      "source": [
        "for ii in patient_folder.keys():\n",
        "    print(ii)"
      ],
      "execution_count": null,
      "outputs": []
    },
    {
      "cell_type": "code",
      "metadata": {
        "id": "dbAdDsr3QRoN"
      },
      "source": [
        "### Open dcm file\n",
        "###\n",
        "from pydicom import dcmread\n",
        "file = '/content/gdrive/My Drive/DBT_DATA/TEST_DATA/manifest-1605042674814/Breast-Cancer-Screening-DBT/DBT-P00118/01-01-2000-DBT-S05386-MAMMO screening digital bilateral-70928/7697.000000-17471/1-1.dcm'\n",
        "\n",
        "\n",
        "ds = dcmread(file)\n",
        "print(ds.PatientName)\n",
        "ds.file_meta.TransferSyntaxUID\n",
        "plt.imshow(ds.pixel_array[0,:,:], cmap=plt.cm.bone) \n"
      ],
      "execution_count": null,
      "outputs": []
    },
    {
      "cell_type": "code",
      "metadata": {
        "id": "uEvknyd0RQau"
      },
      "source": [
        "np.shape(ds.pixel_array)\n",
        "ds_slice = ds.pixel_array[0,:,:]\n",
        "plt.imshow(ds_slice, cmap=plt.cm.jet)\n",
        "plt.colorbar()"
      ],
      "execution_count": null,
      "outputs": []
    }
  ]
}